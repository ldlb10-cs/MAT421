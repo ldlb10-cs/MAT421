{
  "nbformat": 4,
  "nbformat_minor": 0,
  "metadata": {
    "colab": {
      "provenance": [],
      "authorship_tag": "ABX9TyM/3KjAntEWipESlLsP3E/W",
      "include_colab_link": true
    },
    "kernelspec": {
      "name": "python3",
      "display_name": "Python 3"
    },
    "language_info": {
      "name": "python"
    }
  },
  "cells": [
    {
      "cell_type": "markdown",
      "metadata": {
        "id": "view-in-github",
        "colab_type": "text"
      },
      "source": [
        "<a href=\"https://colab.research.google.com/github/ldlb10-cs/MAT421/blob/main/ModuleA.ipynb\" target=\"_parent\"><img src=\"https://colab.research.google.com/assets/colab-badge.svg\" alt=\"Open In Colab\"/></a>"
      ]
    },
    {
      "cell_type": "markdown",
      "source": [
        "9.1 Base-N and Binary\n",
        "\n",
        "*   Base-N is a numerical system representation where N represents the base of the system. We usually use Base-10 (decimal), but other common bases include Base-2 (binary), Base-8 (octal), and Base-16 (hexadecimal).\n",
        "\n",
        "*   Base 10 :\n",
        "\n",
        "\n"
      ],
      "metadata": {
        "id": "umdsGJd8sny6"
      }
    },
    {
      "cell_type": "code",
      "source": [
        "# 45 (Base 10)\n",
        "45 == (4*10**1) + (5*10**0)"
      ],
      "metadata": {
        "colab": {
          "base_uri": "https://localhost:8080/"
        },
        "id": "EzfWQn3muW25",
        "outputId": "2a317b56-a95b-477a-ff3f-003dfbd83b53"
      },
      "execution_count": 1,
      "outputs": [
        {
          "output_type": "execute_result",
          "data": {
            "text/plain": [
              "True"
            ]
          },
          "metadata": {},
          "execution_count": 1
        }
      ]
    },
    {
      "cell_type": "markdown",
      "source": [
        "\n",
        "\n",
        "*   Base 16 :\n",
        "\n"
      ],
      "metadata": {
        "id": "y_dx9igkueOz"
      }
    },
    {
      "cell_type": "code",
      "source": [
        "# 29 (Base 16) = 41 (Base 10)\n",
        "41 == 2*16**1 + 9*16**0"
      ],
      "metadata": {
        "colab": {
          "base_uri": "https://localhost:8080/"
        },
        "id": "G7v3kM4nuhlu",
        "outputId": "8c22b018-8948-401f-e174-9f8fad65bd71"
      },
      "execution_count": 2,
      "outputs": [
        {
          "output_type": "execute_result",
          "data": {
            "text/plain": [
              "True"
            ]
          },
          "metadata": {},
          "execution_count": 2
        }
      ]
    },
    {
      "cell_type": "markdown",
      "source": [
        "\n",
        "*   Binary to Decimal Conversion :"
      ],
      "metadata": {
        "id": "iKG-r_f8vASD"
      }
    },
    {
      "cell_type": "code",
      "source": [
        "# 1101 (Base 2) = 13 (Base 10)\n",
        "1*2**3 + 1*2**2 + 0*2**1 + 1*2**0 == 1*10**1 + 3*10**0"
      ],
      "metadata": {
        "colab": {
          "base_uri": "https://localhost:8080/"
        },
        "id": "766rRMCjvIJ1",
        "outputId": "1c37aa1c-c125-4ab6-cebc-4ce2120ac370"
      },
      "execution_count": 3,
      "outputs": [
        {
          "output_type": "execute_result",
          "data": {
            "text/plain": [
              "True"
            ]
          },
          "metadata": {},
          "execution_count": 3
        }
      ]
    },
    {
      "cell_type": "markdown",
      "source": [
        "9.2 Floating Point Numbers\n",
        "\n",
        "*   Floating point numbers are a computerized way of representing real numbers (including decimals) for approximating and manipulating a very wide range of values. Unlike integers, floating-point numbers can represent decimal points and very large or very small numbers.\n",
        "\n",
        "\n",
        "*   IEEE 754 to Decimal Conversion :\n",
        "\n",
        "\n",
        "\n",
        "\n"
      ],
      "metadata": {
        "id": "o7DEtFYzvTdp"
      }
    },
    {
      "cell_type": "code",
      "source": [
        "# 1 10000000011 1100000000000000000000000000000000000000000000000000 = -28\n",
        "-28 == (-1)**1 * (2**((1*2**10 + 1*2**2 + 1*2**1) - 1023)) * (1 + 1*2**-2)"
      ],
      "metadata": {
        "colab": {
          "base_uri": "https://localhost:8080/"
        },
        "id": "pPuYosI3Sphs",
        "outputId": "57670a88-11b0-4ef4-99bb-915102ab36e3"
      },
      "execution_count": 1,
      "outputs": [
        {
          "output_type": "execute_result",
          "data": {
            "text/plain": [
              "False"
            ]
          },
          "metadata": {},
          "execution_count": 1
        }
      ]
    },
    {
      "cell_type": "markdown",
      "source": [
        "9.3 Round-Off Errors\n",
        "\n",
        "*   Round-Off Errors are small errors introduced in numerical calculations due to the inability to represent numbers accurately. It usually occurs in calculations using floating-point numbers (or other finite-precision numerical representations) where, due to computer storage and processing limitations, some numbers must be rounded to the nearest representable value.\n",
        "\n",
        "\n",
        "\n",
        "\n"
      ],
      "metadata": {
        "id": "9shuMqX5S9gn"
      }
    },
    {
      "cell_type": "code",
      "source": [
        "print(5.7 - 5.645)\n",
        "5.7 - 5.645 == 0.055"
      ],
      "metadata": {
        "colab": {
          "base_uri": "https://localhost:8080/"
        },
        "id": "s0nTv_SGTuA9",
        "outputId": "d0d30bc8-5b55-4bcd-b632-b390ca55aceb"
      },
      "execution_count": 2,
      "outputs": [
        {
          "output_type": "stream",
          "name": "stdout",
          "text": [
            "0.055000000000000604\n"
          ]
        },
        {
          "output_type": "execute_result",
          "data": {
            "text/plain": [
              "False"
            ]
          },
          "metadata": {},
          "execution_count": 2
        }
      ]
    },
    {
      "cell_type": "code",
      "source": [
        "# Without round:\n",
        "sum = 0.1 + 0.2\n",
        "print(sum)\n",
        "sum == 0.3"
      ],
      "metadata": {
        "colab": {
          "base_uri": "https://localhost:8080/"
        },
        "id": "7RsCVcu2T2mR",
        "outputId": "bf1a414b-aa69-4678-b4f5-fac9077f1b6d"
      },
      "execution_count": 11,
      "outputs": [
        {
          "output_type": "stream",
          "name": "stdout",
          "text": [
            "0.30000000000000004\n"
          ]
        },
        {
          "output_type": "execute_result",
          "data": {
            "text/plain": [
              "False"
            ]
          },
          "metadata": {},
          "execution_count": 11
        }
      ]
    },
    {
      "cell_type": "code",
      "source": [
        "# With round:\n",
        "sum = round(0.1 + 0.1 + 0.1, 5)\n",
        "print(sum)\n",
        "sum == round(0.3, 5)"
      ],
      "metadata": {
        "colab": {
          "base_uri": "https://localhost:8080/"
        },
        "id": "3XYHwhwMUgct",
        "outputId": "50a167d3-57b1-4056-aeef-fcaf82774446"
      },
      "execution_count": 12,
      "outputs": [
        {
          "output_type": "stream",
          "name": "stdout",
          "text": [
            "0.3\n"
          ]
        },
        {
          "output_type": "execute_result",
          "data": {
            "text/plain": [
              "True"
            ]
          },
          "metadata": {},
          "execution_count": 12
        }
      ]
    }
  ]
}