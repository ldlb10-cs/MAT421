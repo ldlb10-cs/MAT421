{
  "nbformat": 4,
  "nbformat_minor": 0,
  "metadata": {
    "colab": {
      "provenance": [],
      "authorship_tag": "ABX9TyO97XaiEXcE7eE3O4U6NjHT",
      "include_colab_link": true
    },
    "kernelspec": {
      "name": "python3",
      "display_name": "Python 3"
    },
    "language_info": {
      "name": "python"
    }
  },
  "cells": [
    {
      "cell_type": "markdown",
      "metadata": {
        "id": "view-in-github",
        "colab_type": "text"
      },
      "source": [
        "<a href=\"https://colab.research.google.com/github/ldlb10-cs/MAT421/blob/main/ModuleC.ipynb\" target=\"_parent\"><img src=\"https://colab.research.google.com/assets/colab-badge.svg\" alt=\"Open In Colab\"/></a>"
      ]
    },
    {
      "cell_type": "markdown",
      "source": [
        "# **19.1 : Root Finding Problem Statement**\n",
        "\n",
        "*   Root finding is a fundamental problem in mathematics and engineering, used in physics, optimization, and signal processing. The goal is to determine values of x where a function f(x)=0. While some equations have exact solutions, many require numerical approximation methods.\n",
        "\n"
      ],
      "metadata": {
        "id": "iQFbjVej1sm7"
      }
    },
    {
      "cell_type": "code",
      "source": [
        "import numpy as np\n",
        "from scipy.optimize import fsolve\n",
        "\n",
        "f = lambda x: np.cos(x) - x\n",
        "root = fsolve(f, -1)\n",
        "\n",
        "print(\"Root:\", root)\n",
        "print(\"Function value at root:\", f(root))"
      ],
      "metadata": {
        "colab": {
          "base_uri": "https://localhost:8080/"
        },
        "id": "T9ek8EJV5bIv",
        "outputId": "e74d826b-4b1d-4501-fac0-40f5418fef8f"
      },
      "execution_count": 5,
      "outputs": [
        {
          "output_type": "stream",
          "name": "stdout",
          "text": [
            "Root: [0.73908513]\n",
            "Function value at root: [0.]\n"
          ]
        }
      ]
    },
    {
      "cell_type": "markdown",
      "source": [
        "This method effectively finds a root when algebraic methods are impractical."
      ],
      "metadata": {
        "id": "v7HGfnGH532E"
      }
    },
    {
      "cell_type": "markdown",
      "source": [
        "# **19.2 : Tolerance**\n",
        "\n",
        "*   Tolerance defines the acceptable error in numerical approximations. A result is considered valid if its error is smaller than a chosen tolerance. Striking a balance between precision and efficiency is key—too small a tolerance can slow computations unnecessarily.\n",
        "\n"
      ],
      "metadata": {
        "id": "Cz6jjDC05hUv"
      }
    },
    {
      "cell_type": "code",
      "source": [
        "tolerance = 1e-6\n",
        "approx_root = 2.0000001\n",
        "exact_root = 2\n",
        "\n",
        "if abs(approx_root - exact_root) < tolerance:\n",
        "    print(\"Solution is within tolerance.\")\n",
        "else:\n",
        "    print(\"Solution needs more refinement.\")"
      ],
      "metadata": {
        "colab": {
          "base_uri": "https://localhost:8080/"
        },
        "id": "-wJ_CNrn5u36",
        "outputId": "b13d97fb-49af-4d51-e0a9-2c3e0f5f9b27"
      },
      "execution_count": 6,
      "outputs": [
        {
          "output_type": "stream",
          "name": "stdout",
          "text": [
            "Solution is within tolerance.\n"
          ]
        }
      ]
    },
    {
      "cell_type": "markdown",
      "source": [
        "Numerical methods often return approximations rather than exact solutions, making tolerance essential.\n",
        "\n"
      ],
      "metadata": {
        "id": "ITcLcZAc52JI"
      }
    },
    {
      "cell_type": "markdown",
      "source": [
        "# **19.3 : Bisection Method**\n",
        "\n",
        "*   The Bisection Method is a simple, reliable way to find roots of a continuous function using the Intermediate Value Theorem. If f(a) and f(b) have opposite signs, there must be a root between them.\n",
        "\n"
      ],
      "metadata": {
        "id": "2VmUVpxd56YB"
      }
    },
    {
      "cell_type": "code",
      "source": [
        "def bisection(f, a, b, tol=1e-6):\n",
        "    if np.sign(f(a)) == np.sign(f(b)):\n",
        "        raise ValueError(\"No root in the given interval.\")\n",
        "\n",
        "    while (b - a) / 2 > tol:\n",
        "        mid = (a + b) / 2\n",
        "        if f(mid) == 0 or (b - a) / 2 < tol:\n",
        "            return mid\n",
        "        elif np.sign(f(a)) == np.sign(f(mid)):\n",
        "            a = mid\n",
        "        else:\n",
        "            b = mid\n",
        "    return (a + b) / 2\n",
        "\n",
        "f = lambda x: x**2 - 2\n",
        "root = bisection(f, 0, 2)\n",
        "\n",
        "print(\"Root approximation:\", root)"
      ],
      "metadata": {
        "colab": {
          "base_uri": "https://localhost:8080/"
        },
        "id": "Em9vR--06XIl",
        "outputId": "ee4984be-583a-4c04-aaa6-5400eb432d04"
      },
      "execution_count": 7,
      "outputs": [
        {
          "output_type": "stream",
          "name": "stdout",
          "text": [
            "Root approximation: 1.4142141342163086\n"
          ]
        }
      ]
    },
    {
      "cell_type": "markdown",
      "source": [
        "This method is simple and guarantees convergence but can be slower than other methods.\n",
        "\n"
      ],
      "metadata": {
        "id": "PEizoq7S6mAc"
      }
    },
    {
      "cell_type": "markdown",
      "source": [
        "# **19.4 Newton-Raphson Method**\n",
        "\n",
        "*   The Newton-Raphson Method improves root approximations using derivatives.\n",
        "\n"
      ],
      "metadata": {
        "id": "OZNTob586uVB"
      }
    },
    {
      "cell_type": "code",
      "source": [
        "f = lambda x: x**2 - 2\n",
        "df = lambda x: 2*x\n",
        "\n",
        "newton_step = 1.4 - f(1.4) / df(1.4)\n",
        "print(\"One Newton step approximation:\", newton_step)\n",
        "\n",
        "def newton_raphson(f, df, x0, tol=1e-6, max_iter=100):\n",
        "    x = x0\n",
        "    for _ in range(max_iter):\n",
        "        x_new = x - f(x) / df(x)\n",
        "        if abs(x_new - x) < tol:\n",
        "            return x_new\n",
        "        x = x_new\n",
        "    raise ValueError(\"Newton-Raphson did not converge.\")\n",
        "\n",
        "root = newton_raphson(f, df, 1.5)\n",
        "print(\"Root approximation:\", root)"
      ],
      "metadata": {
        "colab": {
          "base_uri": "https://localhost:8080/"
        },
        "id": "2e5kfy4r63V1",
        "outputId": "0cf9fb1b-bcec-4721-feff-9b9a9026b6fa"
      },
      "execution_count": 9,
      "outputs": [
        {
          "output_type": "stream",
          "name": "stdout",
          "text": [
            "One Newton step approximation: 1.4142857142857144\n",
            "Root approximation: 1.4142135623730951\n"
          ]
        }
      ]
    },
    {
      "cell_type": "markdown",
      "source": [
        "This method converges quickly but requires a differentiable function and a good starting guess."
      ],
      "metadata": {
        "id": "bwLLJ2Gj7NBu"
      }
    },
    {
      "cell_type": "markdown",
      "source": [
        "# **19.5 : Root Finding in Python**\n",
        "\n",
        "*   Python provides built-in root-finding tools, making it easy to solve even complex equations.\n",
        "\n"
      ],
      "metadata": {
        "id": "5bUSBQPY7O--"
      }
    },
    {
      "cell_type": "code",
      "source": [
        "from scipy.optimize import fsolve\n",
        "\n",
        "f = lambda x: x**3 - 100*x**2 - x + 100\n",
        "roots = fsolve(f, [2, 80])\n",
        "\n",
        "print(\"Roots:\", roots)"
      ],
      "metadata": {
        "colab": {
          "base_uri": "https://localhost:8080/"
        },
        "id": "yMsP1nA27a3g",
        "outputId": "3160c883-9b58-4a59-ae55-a2b94c203c78"
      },
      "execution_count": 10,
      "outputs": [
        {
          "output_type": "stream",
          "name": "stdout",
          "text": [
            "Roots: [  1. 100.]\n"
          ]
        }
      ]
    },
    {
      "cell_type": "markdown",
      "source": [
        "These tools save time, making numerical methods accessible for real-world applications."
      ],
      "metadata": {
        "id": "5j-aecYC7lql"
      }
    }
  ]
}