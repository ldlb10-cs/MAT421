{
  "nbformat": 4,
  "nbformat_minor": 0,
  "metadata": {
    "colab": {
      "provenance": [],
      "authorship_tag": "ABX9TyOYGUVIzk1/mGqDiHvkmdU8",
      "include_colab_link": true
    },
    "kernelspec": {
      "name": "python3",
      "display_name": "Python 3"
    },
    "language_info": {
      "name": "python"
    }
  },
  "cells": [
    {
      "cell_type": "markdown",
      "metadata": {
        "id": "view-in-github",
        "colab_type": "text"
      },
      "source": [
        "<a href=\"https://colab.research.google.com/github/ldlb10-cs/MAT421/blob/main/ModuleG.ipynb\" target=\"_parent\"><img src=\"https://colab.research.google.com/assets/colab-badge.svg\" alt=\"Open In Colab\"/></a>"
      ]
    },
    {
      "cell_type": "markdown",
      "source": [
        "21.1 Numerical Integration Problem Statement\n",
        "\n",
        "*   Numerical integration is the process of approximating an integral over a finite interval by summing discrete contributions from subintervals of the domain.\n",
        "\n"
      ],
      "metadata": {
        "id": "L8D7fmZR9UvR"
      }
    },
    {
      "cell_type": "code",
      "source": [
        "def numerical_integration_example(func, start, end, steps):\n",
        "\n",
        "    total_area = 0.0\n",
        "    width = (end - start) / steps\n",
        "\n",
        "    for i in range(steps):\n",
        "        x = start + i * width\n",
        "        height = func(x)\n",
        "        total_area += height * width\n",
        "\n",
        "    return total_area\n",
        "\n",
        "approx_area = numerical_integration_example(lambda x: x**2, 0, 1, 100)\n",
        "print(\"Approximate integral (rectangle method) =\", approx_area)"
      ],
      "metadata": {
        "colab": {
          "base_uri": "https://localhost:8080/"
        },
        "id": "fuMsxCzU9fUu",
        "outputId": "4195af69-f892-4eeb-e07d-c94e34363c91"
      },
      "execution_count": 8,
      "outputs": [
        {
          "output_type": "stream",
          "name": "stdout",
          "text": [
            "Approximate integral (rectangle method) = 0.32835000000000014\n"
          ]
        }
      ]
    },
    {
      "cell_type": "markdown",
      "source": [
        "21.2 Riemann’s Integral\n",
        "\n",
        "*   Riemann’s integral is a concept in calculus that defines the area under a real-valued function as the limit of finite sums of function values multiplied by small subinterval widths."
      ],
      "metadata": {
        "id": "BUa_V8k-9j_9"
      }
    },
    {
      "cell_type": "code",
      "source": [
        "def riemann_sum(func, start, end, n_subintervals):\n",
        "\n",
        "    total = 0.0\n",
        "    width = (end - start) / n_subintervals\n",
        "\n",
        "    for i in range(n_subintervals):\n",
        "        left = start + i * width\n",
        "        right = start + (i+1) * width\n",
        "        midpoint = (left + right) / 2\n",
        "        total += func(midpoint) * width\n",
        "\n",
        "    return total\n",
        "\n",
        "import math\n",
        "approx_area_riemann = riemann_sum(math.sin, 0, math.pi, 1000)\n",
        "print(\"Approximate integral (Riemann midpoint) =\", approx_area_riemann)"
      ],
      "metadata": {
        "colab": {
          "base_uri": "https://localhost:8080/"
        },
        "id": "E_C90B7h9rLU",
        "outputId": "77309d02-2b21-4bf8-a627-2688eda26758"
      },
      "execution_count": 6,
      "outputs": [
        {
          "output_type": "stream",
          "name": "stdout",
          "text": [
            "Approximate integral (Riemann midpoint) = 2.0000008224672694\n"
          ]
        }
      ]
    },
    {
      "cell_type": "markdown",
      "source": [
        "21.3 Trapezoid Rule\n",
        "\n",
        "*   The trapezoid rule is a numerical integration technique that approximates the area under a function by summing the areas of trapezoids formed between consecutive points of the function.\n",
        "\n"
      ],
      "metadata": {
        "id": "JEQahTm_-Gqv"
      }
    },
    {
      "cell_type": "code",
      "source": [
        "def trapezoid_rule(func, start, end, steps):\n",
        "    total_area = 0.0\n",
        "    width = (end - start) / steps\n",
        "    previous_height = func(start)\n",
        "\n",
        "    for i in range(1, steps + 1):\n",
        "        x = start + i * width\n",
        "        current_height = func(x)\n",
        "        total_area += 0.5 * (previous_height + current_height) * width\n",
        "        previous_height = current_height\n",
        "\n",
        "    return total_area\n",
        "\n",
        "import math\n",
        "\n",
        "approx_area_trap = trapezoid_rule(math.exp, 0, 1, 50)\n",
        "print(\"Approximate integral (trapezoid rule) =\", approx_area_trap)"
      ],
      "metadata": {
        "colab": {
          "base_uri": "https://localhost:8080/"
        },
        "id": "J11RdrZL-OLX",
        "outputId": "7d010c27-8c7d-4ed6-bb98-046912112180"
      },
      "execution_count": 13,
      "outputs": [
        {
          "output_type": "stream",
          "name": "stdout",
          "text": [
            "Approximate integral (trapezoid rule) = 1.7183391041381573\n"
          ]
        }
      ]
    }
  ]
}